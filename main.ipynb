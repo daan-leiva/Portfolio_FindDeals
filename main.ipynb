{
 "cells": [
  {
   "cell_type": "code",
   "execution_count": null,
   "metadata": {},
   "outputs": [],
   "source": [
    "import os\n",
    "from selenium import webdriver\n",
    "from selenium.webdriver.chrome.service import Service\n",
    "from selenium.webdriver.common.by import By\n",
    "from selenium.webdriver.chrome.options import Options\n",
    "\n",
    "# Define Chrome options\n",
    "chrome_options = Options()\n",
    "chrome_options.add_argument(\"--headless\")\n",
    "chrome_options.add_argument(\"--no-sandbox\")\n",
    "# Add more options here if needed\n",
    "\n",
    "# Define paths\n",
    "user_home_dir = os.path.expanduser(\"~\")\n",
    "chrome_binary_path = os.path.join(user_home_dir, \"chrome-linux64\", \"chrome\")\n",
    "chromedriver_path = os.path.join(user_home_dir, \"chromedriver-linux64\", \"chromedriver\")\n",
    "\n",
    "# Set binary location and service\n",
    "chrome_options.binary_location = chrome_binary_path\n",
    "service = Service(chromedriver_path)\n",
    "\n",
    "# Initialize Chrome WebDriver\n",
    "with webdriver.Chrome(service=service, options=chrome_options) as browser:\n",
    "    test_url = \"https://www.runderwear.com/collections/mens-running-underwear/products/mens-running-boxer-shorts-black?variant=42426761904321\"\n",
    "\n",
    "    browser.get(test_url)\n",
    "    print(browser.title)\n",
    "\n",
    "    # Find the keyword \"running\" in the URL\n",
    "    search_bar = browser.find_element('name', 'stock')\n",
    "    print(search_bar)\n",
    "    # Wait for the tagline to appear\n",
    "    #tagline = browser.find_element(By.CSS_SELECTOR, \"#hero > div > div > div > p\")\n",
    "    #print(f\"{tagline.text}\")"
   ]
  },
  {
   "cell_type": "code",
   "execution_count": null,
   "metadata": {},
   "outputs": [],
   "source": [
    "test_url = \"https://www.salomon.com/en-us/shop/product/adv-skin-12-lc11657.html#color=68179&size=28048\"\n",
    "test_word = \"Message Board\"\n",
    "find_keyword_in_url(test_url, test_word)"
   ]
  }
 ],
 "metadata": {
  "kernelspec": {
   "display_name": "find_deals",
   "language": "python",
   "name": "python3"
  },
  "language_info": {
   "codemirror_mode": {
    "name": "ipython",
    "version": 3
   },
   "file_extension": ".py",
   "mimetype": "text/x-python",
   "name": "python",
   "nbconvert_exporter": "python",
   "pygments_lexer": "ipython3",
   "version": "3.10.12"
  }
 },
 "nbformat": 4,
 "nbformat_minor": 2
}
